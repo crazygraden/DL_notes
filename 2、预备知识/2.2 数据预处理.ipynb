{
 "cells": [
  {
   "cell_type": "code",
   "execution_count": 1,
   "metadata": {},
   "outputs": [],
   "source": [
    "import os\n",
    "import torch\n",
    "import pandas as pd"
   ]
  },
  {
   "cell_type": "code",
   "execution_count": 2,
   "metadata": {},
   "outputs": [],
   "source": [
    "# 创建一个数据集\n",
    "data_file = 'house_tiny.csv'\n",
    "with open(data_file,'w') as f:\n",
    "    f.write('NumRooms,Alley,Price\\n')  # 列名\n",
    "    f.write('NA,Pave,127500\\n')  # 每行表示一个数据样本\n",
    "    f.write('2,NA,106000\\n')\n",
    "    f.write('4,NA,178100\\n')\n",
    "    f.write('NA,NA,140000\\n')"
   ]
  },
  {
   "cell_type": "code",
   "execution_count": null,
   "metadata": {},
   "outputs": [],
   "source": [
    "data = pd.read_csv(data_file)\n",
    "# print(data)\n",
    "# 处理缺失值\n",
    "inputs,outputs = data.iloc[:,0:2],data.iloc[:,2]\n",
    "# inputs,outputs\n",
    "inputs = inputs.fillna(inputs.mean())\n",
    "print(inputs)\n",
    "inputs = pd.get_dummies(inputs, dummy_na=True)\n",
    "print(inputs)\n",
    "''' 出现错误：\n",
    "TypeError: Cannot interpret ‘＜attribute ‘dtype‘ of ‘numpy.generic‘ objects＞‘ as a data type\n",
    "pandas 版本太低了！！！ -> conda update pandas\n",
    "'''\n",
    "\n",
    "# change to tensor\n",
    "\n",
    "X = torch.tensor(inputs.to_numpy(dtype=float))\n",
    "y = torch.tensor(outputs.to_numpy(dtype=float))\n"
   ]
  },
  {
   "cell_type": "code",
   "execution_count": 14,
   "metadata": {},
   "outputs": [
    {
     "data": {
      "text/plain": [
       "tensor([1.2000e+04, 6.0000e+03, 2.1000e+03, 1.4000e+05, 1.4000e+05, 1.0000e+02,\n",
       "        5.0000e+01], dtype=torch.float64)"
      ]
     },
     "execution_count": 14,
     "metadata": {},
     "output_type": "execute_result"
    }
   ],
   "source": [
    "# test\n",
    "def create_dateset():\n",
    "    data_file = 'animal.csv'\n",
    "    with open(data_file,'w') as f:\n",
    "        f.write('animals,age,price\\n')  # 列名\n",
    "        f.write('horse,NA,12000\\n')  # 每行表示一个数据样本\n",
    "        f.write('cat,NA,6000\\n')\n",
    "        f.write('dog,NA,2100\\n')\n",
    "        f.write('Stitch,NA,140000\\n')\n",
    "        f.write('Snoopy,NA,140000\\n')\n",
    "        f.write('fish,2,100\\n')\n",
    "        f.write('chicken,1,50\\n')\n",
    "    return data_file\n",
    "\n",
    "data_file = create_dateset()\n",
    "data = pd.read_csv(data_file)\n",
    "numdata = data.isnull().sum(axis=0) # 找到每一列是null值的总数\n",
    "numdata_id = numdata.idxmax() # 找到null值总数最大的列名\n",
    "data = data.drop([numdata_id],axis=1)\n",
    "\n",
    "inputs = data.iloc[:,-1]\n",
    "\n",
    "X = torch.tensor(inputs.to_numpy(dtype=float))\n"
   ]
  }
 ],
 "metadata": {
  "kernelspec": {
   "display_name": "my_study",
   "language": "python",
   "name": "my_study"
  },
  "language_info": {
   "codemirror_mode": {
    "name": "ipython",
    "version": 3
   },
   "file_extension": ".py",
   "mimetype": "text/x-python",
   "name": "python",
   "nbconvert_exporter": "python",
   "pygments_lexer": "ipython3",
   "version": "3.7.0"
  }
 },
 "nbformat": 4,
 "nbformat_minor": 2
}
